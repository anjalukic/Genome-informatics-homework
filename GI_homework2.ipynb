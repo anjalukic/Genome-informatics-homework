{
 "cells": [
  {
   "cell_type": "code",
   "execution_count": 1,
   "metadata": {},
   "outputs": [
    {
     "name": "stdout",
     "output_type": "stream",
     "text": [
      "Collecting pysam\n",
      "  Downloading pysam-0.16.0.1-cp38-cp38-manylinux1_x86_64.whl (10.2 MB)\n",
      "\u001b[K     |████████████████████████████████| 10.2 MB 18.2 MB/s eta 0:00:01\n",
      "\u001b[?25hInstalling collected packages: pysam\n",
      "Successfully installed pysam-0.16.0.1\n"
     ]
    }
   ],
   "source": [
    "!pip install pysam"
   ]
  },
  {
   "cell_type": "code",
   "execution_count": 1,
   "metadata": {},
   "outputs": [],
   "source": [
    "import pysam"
   ]
  },
  {
   "cell_type": "code",
   "execution_count": 16,
   "metadata": {},
   "outputs": [],
   "source": [
    "af = pysam.AlignmentFile(\"/sbgenomics/project-files/merged-tumor.bam\")"
   ]
  },
  {
   "cell_type": "code",
   "execution_count": 4,
   "metadata": {},
   "outputs": [],
   "source": [
    "for read in af:\n",
    "    first_read = read\n",
    "    break"
   ]
  },
  {
   "cell_type": "code",
   "execution_count": 7,
   "metadata": {},
   "outputs": [
    {
     "name": "stdout",
     "output_type": "stream",
     "text": [
      "163\n"
     ]
    }
   ],
   "source": [
    "print(first_read.flag)\n",
    "# read paired, mapped in proper pair, mate reverse strand, second in pair"
   ]
  },
  {
   "cell_type": "code",
   "execution_count": 8,
   "metadata": {},
   "outputs": [
    {
     "name": "stdout",
     "output_type": "stream",
     "text": [
      "76M\n"
     ]
    }
   ],
   "source": [
    "print(first_read.cigarstring)"
   ]
  },
  {
   "cell_type": "code",
   "execution_count": 17,
   "metadata": {},
   "outputs": [
    {
     "name": "stdout",
     "output_type": "stream",
     "text": [
      "Number of unmapped reads is 17765\n",
      "Total number of reads in the file is 2921629\n",
      "Number of reads with mapping quality 0 is 126628\n",
      "Average mapping quality for all reads is 55.91379158681681\n",
      "Average mapping quality if quality 0 reads are filtered is 58.446975510921106\n"
     ]
    }
   ],
   "source": [
    "unmapped_reads_count = 0\n",
    "reads_count = 0\n",
    "reads_qual0_count = 0\n",
    "qual_sum = 0\n",
    "\n",
    "for read in af:\n",
    "    if read.is_unmapped:\n",
    "        unmapped_reads_count+=1\n",
    "    reads_count+=1;\n",
    "    if read.mapping_quality == 0:\n",
    "        reads_qual0_count+=1\n",
    "    qual_sum+=read.mapping_quality\n",
    "    \n",
    "print(f\"Number of unmapped reads is {unmapped_reads_count}\")\n",
    "print(f\"Total number of reads in the file is {reads_count}\")\n",
    "print(f\"Number of reads with mapping quality 0 is {reads_qual0_count}\")\n",
    "print(f\"Average mapping quality for all reads is {qual_sum/reads_count}\")\n",
    "print(f\"Average mapping quality if quality 0 reads are filtered is {qual_sum/(reads_count-reads_qual0_count)}\")"
   ]
  },
  {
   "cell_type": "code",
   "execution_count": null,
   "metadata": {},
   "outputs": [],
   "source": []
  }
 ],
 "metadata": {
  "kernelspec": {
   "display_name": "Python 3",
   "language": "python",
   "name": "python3"
  },
  "language_info": {
   "codemirror_mode": {
    "name": "ipython",
    "version": 3
   },
   "file_extension": ".py",
   "mimetype": "text/x-python",
   "name": "python",
   "nbconvert_exporter": "python",
   "pygments_lexer": "ipython3",
   "version": "3.8.3"
  }
 },
 "nbformat": 4,
 "nbformat_minor": 4
}
